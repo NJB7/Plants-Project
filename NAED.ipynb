{
 "cells": [
  {
   "cell_type": "code",
   "execution_count": null,
   "metadata": {},
   "outputs": [],
   "source": [
    "# http://naeb.brit.org/uses/ \n",
    "\n",
    "import pandas as pd\n",
    "# import camelot\n",
    "\n",
    "botany_list = pd.read_html(\"http://naeb.brit.org/uses/\")\n",
    "\n",
    "# botany_df = pd.DataFrame(botany_list)\n",
    "\n",
    "botany_df = botany_list[0]\n",
    "\n",
    "botany_df.columns\n",
    "\n"
   ]
  },
  {
   "cell_type": "code",
   "execution_count": 116,
   "metadata": {},
   "outputs": [
    {
     "name": "stdout",
     "output_type": "stream",
     "text": [
      "{'Header': ['Species'], 'Plant Names': ['Home', 'Search Uses', 'Tribes', 'Species', 'About', 'Contact']}\n"
     ]
    }
   ],
   "source": [
    "from bs4 import BeautifulSoup\n",
    "import pandas as pd\n",
    "import requests\n",
    "\n",
    "# fetch the webpage using requests\n",
    "url = 'http://naeb.brit.org/uses/species/'\n",
    "r = requests.get(url)\n",
    "\n",
    "# create a BeautifulSoup object\n",
    "soup = BeautifulSoup(r.content, 'html.parser')\n",
    "\n",
    "# find the HTML elements containing the data\n",
    "header_elements = soup.find_all('h3')\n",
    "# plant_name_elements = soup.find_all('/html/body/div[2]/a[1]')\n",
    "# find the HTML element containing the data\n",
    "div2_element = soup.find('div').find_all('div')[2]\n",
    "# find the <a> elements inside div[2]\n",
    "plant_name_elements = div2_element.select('a')\n",
    "\n",
    "# extract the text from the HTML elements\n",
    "headers = [element.text for element in header_elements]\n",
    "plant_names = [element.text for element in plant_name_elements]\n",
    "# descriptions = [element.text.strip() for element in description_elements]\n",
    "# citations = [element.text.strip() for element in citation_elements]\n",
    "\n",
    "# create a dictionary from the extracted data\n",
    "data_dict = {'Header': headers, 'Plant Names': plant_names}\n",
    "\n",
    "print(data_dict)\n",
    "\n",
    "# create a pandas DataFrame from the extracted data\n",
    "# df = pd.DataFrame(data_dict)\n",
    "\n",
    "# print the resulting DataFrame\n",
    "# df\n"
   ]
  },
  {
   "cell_type": "code",
   "execution_count": 117,
   "metadata": {},
   "outputs": [
    {
     "ename": "AttributeError",
     "evalue": "'NoneType' object has no attribute 'find_all'",
     "output_type": "error",
     "traceback": [
      "\u001b[1;31m---------------------------------------------------------------------------\u001b[0m",
      "\u001b[1;31mAttributeError\u001b[0m                            Traceback (most recent call last)",
      "Cell \u001b[1;32mIn[117], line 16\u001b[0m\n\u001b[0;32m     13\u001b[0m table_element \u001b[39m=\u001b[39m soup\u001b[39m.\u001b[39mfind(\u001b[39m'\u001b[39m\u001b[39mtable\u001b[39m\u001b[39m'\u001b[39m, class_\u001b[39m=\u001b[39m\u001b[39m'\u001b[39m\u001b[39mtable table-bordered\u001b[39m\u001b[39m'\u001b[39m)\n\u001b[0;32m     15\u001b[0m \u001b[39m# find all the rows in the table\u001b[39;00m\n\u001b[1;32m---> 16\u001b[0m rows \u001b[39m=\u001b[39m table_element\u001b[39m.\u001b[39;49mfind_all(\u001b[39m'\u001b[39m\u001b[39mtr\u001b[39m\u001b[39m'\u001b[39m)\n\u001b[0;32m     18\u001b[0m \u001b[39m# create an empty dictionary to store the extracted data\u001b[39;00m\n\u001b[0;32m     19\u001b[0m data_dict \u001b[39m=\u001b[39m {\u001b[39m'\u001b[39m\u001b[39mPlant Names\u001b[39m\u001b[39m'\u001b[39m: [], \u001b[39m'\u001b[39m\u001b[39mDescription\u001b[39m\u001b[39m'\u001b[39m: [], \u001b[39m'\u001b[39m\u001b[39mCitation\u001b[39m\u001b[39m'\u001b[39m: []}\n",
      "\u001b[1;31mAttributeError\u001b[0m: 'NoneType' object has no attribute 'find_all'"
     ]
    }
   ],
   "source": [
    "from bs4 import BeautifulSoup\n",
    "import pandas as pd\n",
    "import requests\n",
    "\n",
    "# fetch the webpage using requests\n",
    "url = 'http://naeb.brit.org/uses/species/'\n",
    "r = requests.get(url)\n",
    "\n",
    "# create a BeautifulSoup object\n",
    "soup = BeautifulSoup(r.content, 'html.parser')\n",
    "\n",
    "# find the HTML element containing the data\n",
    "table_element = soup.find('table', class_='table table-bordered')\n",
    "\n",
    "# find all the rows in the table\n",
    "rows = table_element.find_all('tr')\n",
    "\n",
    "# create an empty dictionary to store the extracted data\n",
    "data_dict = {'Plant Names': [], 'Description': [], 'Citation': []}\n",
    "\n",
    "# loop over the rows and extract the data\n",
    "for row in rows[1:]:\n",
    "    columns = row.find_all('td')\n",
    "    plant_name = columns[0].text.strip()\n",
    "    description = columns[1].text.strip()\n",
    "    citation = columns[2].text.strip()\n",
    "    data_dict['Plant Names'].append(plant_name)\n",
    "    data_dict['Description'].append(description)\n",
    "    data_dict['Citation'].append(citation)\n",
    "\n",
    "# create a pandas DataFrame from the extracted data\n",
    "df = pd.DataFrame(data_dict)\n",
    "\n",
    "# print the resulting DataFrame\n",
    "print(df)\n"
   ]
  }
 ],
 "metadata": {
  "kernelspec": {
   "display_name": "Python 3",
   "language": "python",
   "name": "python3"
  },
  "language_info": {
   "codemirror_mode": {
    "name": "ipython",
    "version": 3
   },
   "file_extension": ".py",
   "mimetype": "text/x-python",
   "name": "python",
   "nbconvert_exporter": "python",
   "pygments_lexer": "ipython3",
   "version": "3.10.10"
  },
  "orig_nbformat": 4,
  "vscode": {
   "interpreter": {
    "hash": "12ec50f0b86d98ce16e7820f166706dafdf9b71573acbbab6d10efdb53bddbcc"
   }
  }
 },
 "nbformat": 4,
 "nbformat_minor": 2
}
