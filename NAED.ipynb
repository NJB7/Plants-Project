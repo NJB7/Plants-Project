{
 "cells": [
  {
   "cell_type": "code",
   "execution_count": null,
   "metadata": {},
   "outputs": [],
   "source": [
    "# http://naeb.brit.org/"
   ]
  }
 ],
 "metadata": {
  "kernelspec": {
   "display_name": "Python 3",
   "language": "python",
   "name": "python3"
  },
  "language_info": {
   "name": "python",
   "version": "3.10.10"
  },
  "orig_nbformat": 4,
  "vscode": {
   "interpreter": {
    "hash": "12ec50f0b86d98ce16e7820f166706dafdf9b71573acbbab6d10efdb53bddbcc"
   }
  }
 },
 "nbformat": 4,
 "nbformat_minor": 2
}
